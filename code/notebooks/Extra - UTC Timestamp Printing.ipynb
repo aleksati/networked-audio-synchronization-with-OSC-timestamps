{
 "cells": [
  {
   "cell_type": "markdown",
   "id": "ed994886",
   "metadata": {},
   "source": [
    "# Example 4 - UTC Timestamp Printing\n",
    "\n",
    "Convert current DateTime to UTC UNIX Timestamp (seconds since epoch). Print the time on the console, once every second. \n",
    "\n",
    "docs: \n",
    "https://www.geeksforgeeks.org/how-to-convert-datetime-to-unix-timestamp-in-python/"
   ]
  },
  {
   "cell_type": "code",
   "execution_count": null,
   "id": "6c169723",
   "metadata": {},
   "outputs": [],
   "source": [
    "from datetime import datetime\n",
    "import calendar\n",
    "import time\n",
    "\n",
    "while True:\n",
    "    date = datetime.utcnow()\n",
    "    utc_timestamp = calendar.timegm(date.utctimetuple())\n",
    "    \n",
    "    print(\"current timestamp:\", utc_timestamp)\n",
    "    \n",
    "    time.sleep(1)"
   ]
  },
  {
   "cell_type": "code",
   "execution_count": null,
   "id": "ba6ab9ac",
   "metadata": {},
   "outputs": [],
   "source": []
  }
 ],
 "metadata": {
  "kernelspec": {
   "display_name": "Python 3 (ipykernel)",
   "language": "python",
   "name": "python3"
  },
  "language_info": {
   "codemirror_mode": {
    "name": "ipython",
    "version": 3
   },
   "file_extension": ".py",
   "mimetype": "text/x-python",
   "name": "python",
   "nbconvert_exporter": "python",
   "pygments_lexer": "ipython3",
   "version": "3.9.16"
  }
 },
 "nbformat": 4,
 "nbformat_minor": 5
}
