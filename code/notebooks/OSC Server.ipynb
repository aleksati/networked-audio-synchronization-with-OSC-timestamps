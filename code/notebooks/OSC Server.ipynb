{
 "cells": [
  {
   "cell_type": "code",
   "execution_count": 1,
   "id": "6e2f40f0",
   "metadata": {},
   "outputs": [],
   "source": [
    "# OSC Server\n",
    "from pythonosc import dispatcher, osc_server\n",
    "from playsound import playsound\n",
    "import threading\n",
    "import time"
   ]
  },
  {
   "cell_type": "code",
   "execution_count": null,
   "id": "5bd25427",
   "metadata": {},
   "outputs": [],
   "source": [
    "# Config\n",
    "serverIp = '127.0.0.1'\n",
    "serverPort = 8000\n",
    "audio = \"./tick.wav\" # audio file must be in the same dir!"
   ]
  },
  {
   "cell_type": "code",
   "execution_count": 2,
   "id": "aac44608",
   "metadata": {},
   "outputs": [],
   "source": [
    "# Handler for incoming /tick OSC messages\n",
    "def pyHandler(address, args):\n",
    "    print(f'{address} {args}')\n",
    "    \n",
    "    if args == \"tick\":\n",
    "        # If a tick message is recevied, play audio\n",
    "        playsound(audio)\n",
    "\n",
    "# OSC server\n",
    "dispatcher = dispatcher.Dispatcher()\n",
    "dispatcher.map(\"/tick*\", pyHandler)\n",
    "server = osc_server.ThreadingOSCUDPServer((serverIp, serverPort), dispatcher)"
   ]
  },
  {
   "cell_type": "code",
   "execution_count": 3,
   "id": "c3c43c81",
   "metadata": {},
   "outputs": [
    {
     "name": "stdout",
     "output_type": "stream",
     "text": [
      "Starting OSC server on 127.0.0.1:8000\n",
      "Press Ctrl+C to exit.\n",
      "Exiting...\n"
     ]
    }
   ],
   "source": [
    "# Start OSC server and listen for messages\n",
    "print(f\"Starting OSC server on {server.server_address[0]}:{server.server_address[1]}\")\n",
    "server.serve_forever()"
   ]
  },
  {
   "cell_type": "code",
   "execution_count": 5,
   "id": "59bceba8",
   "metadata": {},
   "outputs": [],
   "source": [
    "# closing the OSC server\n",
    "server.server_close()"
   ]
  }
 ],
 "metadata": {
  "kernelspec": {
   "display_name": "Python 3 (ipykernel)",
   "language": "python",
   "name": "python3"
  },
  "language_info": {
   "codemirror_mode": {
    "name": "ipython",
    "version": 3
   },
   "file_extension": ".py",
   "mimetype": "text/x-python",
   "name": "python",
   "nbconvert_exporter": "python",
   "pygments_lexer": "ipython3",
   "version": "3.9.13"
  }
 },
 "nbformat": 4,
 "nbformat_minor": 5
}
